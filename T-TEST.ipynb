{
 "cells": [
  {
   "cell_type": "code",
   "execution_count": 1,
   "id": "3960e363",
   "metadata": {},
   "outputs": [],
   "source": [
    "import pandas as pd\n",
    "import numpy as np\n",
    "import seaborn as sns\n",
    "import scipy.stats as start "
   ]
  },
  {
   "cell_type": "code",
   "execution_count": 2,
   "id": "dc1aebc6",
   "metadata": {},
   "outputs": [],
   "source": [
    "df=sns.load_dataset(\"titanic\")"
   ]
  },
  {
   "cell_type": "code",
   "execution_count": 3,
   "id": "0886d49e",
   "metadata": {},
   "outputs": [
    {
     "data": {
      "text/plain": [
       "177"
      ]
     },
     "execution_count": 3,
     "metadata": {},
     "output_type": "execute_result"
    }
   ],
   "source": [
    "df[\"age\"].isnull().sum()"
   ]
  },
  {
   "cell_type": "code",
   "execution_count": 4,
   "id": "baff5ded",
   "metadata": {},
   "outputs": [],
   "source": [
    "pop=df[\"age\"].dropna()"
   ]
  },
  {
   "cell_type": "code",
   "execution_count": 5,
   "id": "2d993c68",
   "metadata": {},
   "outputs": [
    {
     "data": {
      "text/plain": [
       "0"
      ]
     },
     "execution_count": 5,
     "metadata": {},
     "output_type": "execute_result"
    }
   ],
   "source": [
    "pop.isnull().sum()"
   ]
  },
  {
   "cell_type": "markdown",
   "id": "0016b597",
   "metadata": {},
   "source": [
    "Let suppose we have taken 25 sample from the population"
   ]
  },
  {
   "cell_type": "code",
   "execution_count": 6,
   "id": "7868118c",
   "metadata": {},
   "outputs": [],
   "source": [
    "sample=pop.sample(25).values"
   ]
  },
  {
   "cell_type": "code",
   "execution_count": 7,
   "id": "d72576b3",
   "metadata": {},
   "outputs": [
    {
     "data": {
      "text/plain": [
       "array([29. , 40. , 36. , 27. , 22. , 18. , 21. , 23. , 26. , 28. , 45. ,\n",
       "       48. , 19. , 26. , 47. , 33. , 22. , 19. , 23. , 39. ,  4. , 22. ,\n",
       "       26. , 32.5, 23. ])"
      ]
     },
     "execution_count": 7,
     "metadata": {},
     "output_type": "execute_result"
    }
   ],
   "source": [
    "sample"
   ]
  },
  {
   "cell_type": "markdown",
   "id": "6ffff00a",
   "metadata": {},
   "source": [
    "Now we have to test the assumptions"
   ]
  },
  {
   "cell_type": "code",
   "execution_count": 8,
   "id": "8b6938b4",
   "metadata": {},
   "outputs": [],
   "source": [
    "#Checking for the normality\n",
    "from scipy.stats import shapiro"
   ]
  },
  {
   "cell_type": "code",
   "execution_count": 9,
   "id": "827b5b9d",
   "metadata": {},
   "outputs": [
    {
     "name": "stdout",
     "output_type": "stream",
     "text": [
      "Our Sample is normally distributed.\n"
     ]
    }
   ],
   "source": [
    "result=shapiro(sample)\n",
    "p_values=result[1]\n",
    "if p_values>0.05:\n",
    "    print(\"Our Sample is normally distributed.\")\n",
    "else:\n",
    "    print(\"Our Sample isn't normally distributed\")"
   ]
  },
  {
   "cell_type": "code",
   "execution_count": 10,
   "id": "39a15284",
   "metadata": {},
   "outputs": [],
   "source": [
    "pop_mean=35"
   ]
  },
  {
   "cell_type": "code",
   "execution_count": 11,
   "id": "36b42b03",
   "metadata": {},
   "outputs": [],
   "source": [
    "from scipy.stats import ttest_1samp"
   ]
  },
  {
   "cell_type": "code",
   "execution_count": 12,
   "id": "0da67ea8",
   "metadata": {},
   "outputs": [
    {
     "name": "stdout",
     "output_type": "stream",
     "text": [
      "We reject our null hyopthesis and Average age is less than 35 year\n"
     ]
    }
   ],
   "source": [
    "result=ttest_1samp(sample,pop_mean)\n",
    "p_value=result[1]/2 #as it is left-tailed test\n",
    "if p_value>0.05:\n",
    "    print(\"Our null hypothesis is true.Average age of the passenger is 35 year\")\n",
    "else:\n",
    "    print(\"We reject our null hyopthesis and Average age is less than 35 year\")"
   ]
  },
  {
   "cell_type": "code",
   "execution_count": 13,
   "id": "9582ec04",
   "metadata": {},
   "outputs": [
    {
     "data": {
      "text/plain": [
       "TtestResult(statistic=-3.453048732255816, pvalue=0.0020689121790130813, df=24)"
      ]
     },
     "execution_count": 13,
     "metadata": {},
     "output_type": "execute_result"
    }
   ],
   "source": [
    "result"
   ]
  },
  {
   "cell_type": "code",
   "execution_count": 14,
   "id": "eddc9eac",
   "metadata": {},
   "outputs": [
    {
     "data": {
      "text/plain": [
       "29.69911764705882"
      ]
     },
     "execution_count": 14,
     "metadata": {},
     "output_type": "execute_result"
    }
   ],
   "source": [
    "#Checking our test with the population dataset\n",
    "df[\"age\"].mean()"
   ]
  },
  {
   "cell_type": "markdown",
   "id": "c77b9909",
   "metadata": {},
   "source": [
    "# Independent 2 Sample t-test:"
   ]
  },
  {
   "cell_type": "markdown",
   "id": "5f1f43be",
   "metadata": {},
   "source": [
    "Now we are claiming that the average age of male and average age for female would be similar for this we are going to do the t-test."
   ]
  },
  {
   "cell_type": "markdown",
   "id": "1e96e5b6",
   "metadata": {},
   "source": [
    "# Answer"
   ]
  },
  {
   "cell_type": "markdown",
   "id": "ac05aad1",
   "metadata": {},
   "source": [
    "Null Hypothesis(Ho):Average age of male is similar to the average age of female \n",
    "    \n",
    "Alernative Hypothesis(Ha):Average age of male is not similar to avaerage age of Female. there is significant difference between them."
   ]
  },
  {
   "cell_type": "code",
   "execution_count": 15,
   "id": "460fa16b",
   "metadata": {},
   "outputs": [],
   "source": [
    "male_age=df[df[\"sex\"]=='male'][\"age\"]\n",
    "female_age=df[df[\"sex\"]=='female'][\"age\"]"
   ]
  },
  {
   "cell_type": "code",
   "execution_count": 16,
   "id": "3be014fc",
   "metadata": {},
   "outputs": [],
   "source": [
    "pop_male_age=male_age.dropna()\n",
    "pop_female_age=female_age.dropna()"
   ]
  },
  {
   "cell_type": "code",
   "execution_count": 17,
   "id": "23ac0e9f",
   "metadata": {},
   "outputs": [],
   "source": [
    "sample_male=pop_male_age.sample(25).values\n",
    "sample_female=pop_female_age.sample(25).values"
   ]
  },
  {
   "cell_type": "code",
   "execution_count": 18,
   "id": "d4820f2a",
   "metadata": {},
   "outputs": [
    {
     "data": {
      "text/plain": [
       "array([36.  , 48.  , 50.  , 18.  , 30.  , 18.  , 14.  , 24.  , 33.  ,\n",
       "       33.  , 33.  , 32.  , 32.  , 22.  , 26.  , 12.  , 40.  , 58.  ,\n",
       "       22.  , 16.  , 20.  , 16.  , 19.  ,  0.67, 30.  ])"
      ]
     },
     "execution_count": 18,
     "metadata": {},
     "output_type": "execute_result"
    }
   ],
   "source": [
    "sample_male"
   ]
  },
  {
   "cell_type": "code",
   "execution_count": 19,
   "id": "884f40bb",
   "metadata": {},
   "outputs": [
    {
     "data": {
      "text/plain": [
       "array([34., 43., 14., 18., 22., 40.,  2., 24., 48., 18., 50., 36., 17.,\n",
       "       29.,  2., 27., 21., 17., 18., 38., 24., 15., 24., 31., 25.])"
      ]
     },
     "execution_count": 19,
     "metadata": {},
     "output_type": "execute_result"
    }
   ],
   "source": [
    "sample_female"
   ]
  },
  {
   "cell_type": "markdown",
   "id": "1c2d42cd",
   "metadata": {},
   "source": [
    "# checking for assumptions"
   ]
  },
  {
   "cell_type": "code",
   "execution_count": 20,
   "id": "b4452095",
   "metadata": {},
   "outputs": [],
   "source": [
    "#normality check:"
   ]
  },
  {
   "cell_type": "code",
   "execution_count": 21,
   "id": "100d5289",
   "metadata": {},
   "outputs": [
    {
     "name": "stdout",
     "output_type": "stream",
     "text": [
      "sample_male is normally distributed\n",
      "sample_female is normally distributed\n"
     ]
    }
   ],
   "source": [
    "l={\"sample_male\":sample_male,\"sample_female\":sample_female}\n",
    "for i in l:\n",
    "    result=shapiro(l[i])\n",
    "    p_value=result[1]\n",
    "    if p_value>0.05:\n",
    "        print(f\"{i} is normally distributed\")\n",
    "    else:\n",
    "        print(f\"{i} isn't normally distributed\")"
   ]
  },
  {
   "cell_type": "code",
   "execution_count": 22,
   "id": "78aad5ff",
   "metadata": {},
   "outputs": [],
   "source": [
    "#variance test"
   ]
  },
  {
   "cell_type": "code",
   "execution_count": 23,
   "id": "28cba31e",
   "metadata": {},
   "outputs": [
    {
     "name": "stdout",
     "output_type": "stream",
     "text": [
      "These two sample columns have equal variance\n"
     ]
    }
   ],
   "source": [
    "from scipy.stats import levene\n",
    "\n",
    "result = levene(sample_male, sample_female)\n",
    "if result[1] > 0.05:\n",
    "    print(\"These two sample columns have equal variance\")\n",
    "else:\n",
    "    print(\"Variance of these two columns are not equal\")\n"
   ]
  },
  {
   "cell_type": "markdown",
   "id": "1634c91e",
   "metadata": {},
   "source": [
    "# Testing the t-test:"
   ]
  },
  {
   "cell_type": "code",
   "execution_count": 24,
   "id": "873a5647",
   "metadata": {},
   "outputs": [
    {
     "name": "stdout",
     "output_type": "stream",
     "text": [
      "We can't reject our null hypothesis, so the average age of males is similar to the average age of females.\n"
     ]
    }
   ],
   "source": [
    "from scipy.stats import ttest_ind\n",
    "\n",
    "result = ttest_ind(sample_male, sample_female)\n",
    "if result[1] > 0.05:\n",
    "    print(\"We can't reject our null hypothesis, so the average age of males is similar to the average age of females.\")\n",
    "else:\n",
    "    print(\"Average age of males is not similar to the average age of females. There is a significant difference.\")\n"
   ]
  },
  {
   "cell_type": "markdown",
   "id": "a7e7bf37",
   "metadata": {},
   "source": [
    "# Pair two sample t test :"
   ]
  },
  {
   "cell_type": "markdown",
   "id": "790196b1",
   "metadata": {},
   "source": [
    "Let's assume that a fitness center is evaluating the effectiveness of a new 8-week weight loss program.\n",
    "They enroll 15 participants in the program and measure their weights before and after the program. The goal\n",
    "is to test whether the new weight loss program leads to a significant reduction in the participants' weight.\n",
    "Before the program: [80, 92, 75, 68, 85, 78, 73, 90, 70, 88, 76, 84, 82, 77, 91] After the program: [78, 93, 81,\n",
    "67, 88, 76, 74, 91, 69, 88, 77, 81, 80, 79, 88] Significance level (α) = 0.05"
   ]
  },
  {
   "cell_type": "markdown",
   "id": "5bb7b9c6",
   "metadata": {},
   "source": [
    "# Answer :"
   ]
  },
  {
   "cell_type": "markdown",
   "id": "2d5ad91d",
   "metadata": {},
   "source": [
    "so we have data of weight Before the program: [80, 92, 75, 68, 85, 78, 73, 90, 70, 88, 76, 84, 82, 77, 91]\n",
    "and After the program: [78, 93, 81, 67, 88, 76, 74, 91, 69, 88, 77, 81, 80, 79, 88]\n",
    "now our null hypothesis(Ho):mean(before)=mean(after)\n",
    "alternative hypothesis(Ha):mean(before)>mean(after)"
   ]
  },
  {
   "cell_type": "markdown",
   "id": "77b235fc",
   "metadata": {},
   "source": [
    "# now we need to test our assumptions :"
   ]
  },
  {
   "cell_type": "code",
   "execution_count": 25,
   "id": "48df45be",
   "metadata": {},
   "outputs": [],
   "source": [
    "# checking the normality of the different columns of these two columns\n",
    "column_before=np.array([80, 92, 75, 68, 85, 78, 73, 90, 70, 88, 76, 84, 82, 77, 91])\n",
    "column_after=np.array([78, 93, 81, 67, 88, 76, 74, 91, 69, 88, 77, 81, 80, 79, 88])"
   ]
  },
  {
   "cell_type": "code",
   "execution_count": 26,
   "id": "0c4605f1",
   "metadata": {},
   "outputs": [],
   "source": [
    "diff_column=column_before-column_after"
   ]
  },
  {
   "cell_type": "code",
   "execution_count": 27,
   "id": "d203c1d3",
   "metadata": {},
   "outputs": [
    {
     "data": {
      "text/plain": [
       "array([ 2, -1, -6,  1, -3,  2, -1, -1,  1,  0, -1,  3,  2, -2,  3])"
      ]
     },
     "execution_count": 27,
     "metadata": {},
     "output_type": "execute_result"
    }
   ],
   "source": [
    "diff_column"
   ]
  },
  {
   "cell_type": "code",
   "execution_count": 28,
   "id": "723eed1c",
   "metadata": {},
   "outputs": [
    {
     "name": "stdout",
     "output_type": "stream",
     "text": [
      "normally distributed\n"
     ]
    }
   ],
   "source": [
    "result=shapiro(diff_column)\n",
    "p_value=result[1]\n",
    "if p_value>0.05:\n",
    "     print(\"normally distributed\")\n",
    "else:\n",
    "     print(\"not normally distreibuted\")"
   ]
  },
  {
   "cell_type": "markdown",
   "id": "e4f5c3e2",
   "metadata": {},
   "source": [
    "Now we need to find out the t-statistic."
   ]
  },
  {
   "cell_type": "code",
   "execution_count": 29,
   "id": "6b44ae25",
   "metadata": {},
   "outputs": [],
   "source": [
    "t_statistic=diff_column.mean()/(diff_column.std()/np.sqrt(15))"
   ]
  },
  {
   "cell_type": "code",
   "execution_count": 30,
   "id": "72848027",
   "metadata": {},
   "outputs": [
    {
     "data": {
      "text/plain": [
       "-0.10850778933039285"
      ]
     },
     "execution_count": 30,
     "metadata": {},
     "output_type": "execute_result"
    }
   ],
   "source": [
    "t_statistic"
   ]
  },
  {
   "cell_type": "markdown",
   "id": "4d851dd6",
   "metadata": {},
   "source": [
    "this the right-tailed test. now we need to find out the p_value with respect to t_statistic"
   ]
  },
  {
   "cell_type": "code",
   "execution_count": 31,
   "id": "1c930081",
   "metadata": {},
   "outputs": [],
   "source": [
    "from scipy.stats import t\n",
    "\n",
    "p_value = t.sf(t_statistic, 14)\n"
   ]
  },
  {
   "cell_type": "code",
   "execution_count": 32,
   "id": "222ebdbc",
   "metadata": {},
   "outputs": [
    {
     "name": "stdout",
     "output_type": "stream",
     "text": [
      "we can't reject our null hypothesis and mean(before)=mean(after)\n"
     ]
    }
   ],
   "source": [
    "if p_value>0.05:\n",
    "     print(\"we can't reject our null hypothesis and mean(before)=mean(after)\")\n",
    "else:\n",
    "     print(\"we reject our null hypothesis and (Ha):mean(before)>mean(after)\")"
   ]
  },
  {
   "cell_type": "code",
   "execution_count": null,
   "id": "353e26a6",
   "metadata": {},
   "outputs": [],
   "source": []
  }
 ],
 "metadata": {
  "kernelspec": {
   "display_name": "Python 3 (ipykernel)",
   "language": "python",
   "name": "python3"
  },
  "language_info": {
   "codemirror_mode": {
    "name": "ipython",
    "version": 3
   },
   "file_extension": ".py",
   "mimetype": "text/x-python",
   "name": "python",
   "nbconvert_exporter": "python",
   "pygments_lexer": "ipython3",
   "version": "3.10.9"
  }
 },
 "nbformat": 4,
 "nbformat_minor": 5
}
